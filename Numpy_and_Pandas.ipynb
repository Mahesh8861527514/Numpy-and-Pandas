{
  "nbformat": 4,
  "nbformat_minor": 0,
  "metadata": {
    "colab": {
      "provenance": []
    },
    "kernelspec": {
      "name": "python3",
      "display_name": "Python 3"
    },
    "language_info": {
      "name": "python"
    }
  },
  "cells": [
    {
      "cell_type": "code",
      "execution_count": null,
      "metadata": {
        "id": "4uUIRFTSvtKz"
      },
      "outputs": [],
      "source": [
        "a='United Nations'"
      ]
    },
    {
      "cell_type": "code",
      "source": [
        "a[3:]"
      ],
      "metadata": {
        "id": "qitblBU8v1Jx",
        "colab": {
          "base_uri": "https://localhost:8080/",
          "height": 36
        },
        "outputId": "59bf6e0c-e785-4b35-93a1-ec2fbd75613e"
      },
      "execution_count": null,
      "outputs": [
        {
          "output_type": "execute_result",
          "data": {
            "text/plain": [
              "'ted Nations'"
            ],
            "application/vnd.google.colaboratory.intrinsic+json": {
              "type": "string"
            }
          },
          "metadata": {},
          "execution_count": 2
        }
      ]
    },
    {
      "cell_type": "code",
      "source": [
        "a[-3:]"
      ],
      "metadata": {
        "id": "R4EIj8FSwGNk",
        "colab": {
          "base_uri": "https://localhost:8080/",
          "height": 36
        },
        "outputId": "d1dd4676-ab64-453b-8af5-835216c68149"
      },
      "execution_count": null,
      "outputs": [
        {
          "output_type": "execute_result",
          "data": {
            "text/plain": [
              "'ons'"
            ],
            "application/vnd.google.colaboratory.intrinsic+json": {
              "type": "string"
            }
          },
          "metadata": {},
          "execution_count": 3
        }
      ]
    },
    {
      "cell_type": "code",
      "source": [
        "l1=['India','USA','China','Russia']"
      ],
      "metadata": {
        "id": "7_FEJA42wZ0R"
      },
      "execution_count": null,
      "outputs": []
    },
    {
      "cell_type": "code",
      "source": [
        "l1[2:]"
      ],
      "metadata": {
        "id": "hgeNlPsWwm8q",
        "colab": {
          "base_uri": "https://localhost:8080/"
        },
        "outputId": "7a587462-5f92-4a6b-a43a-2de53cf17d97"
      },
      "execution_count": null,
      "outputs": [
        {
          "output_type": "execute_result",
          "data": {
            "text/plain": [
              "['China', 'Russia']"
            ]
          },
          "metadata": {},
          "execution_count": 5
        }
      ]
    },
    {
      "cell_type": "code",
      "source": [
        "l1[:-2]"
      ],
      "metadata": {
        "id": "xJLMWS-Ow0AW",
        "colab": {
          "base_uri": "https://localhost:8080/"
        },
        "outputId": "f09d9af8-0046-4ee9-aa5d-a3e17648fb01"
      },
      "execution_count": null,
      "outputs": [
        {
          "output_type": "execute_result",
          "data": {
            "text/plain": [
              "['India', 'USA']"
            ]
          },
          "metadata": {},
          "execution_count": 6
        }
      ]
    },
    {
      "cell_type": "code",
      "source": [
        "l1[::]"
      ],
      "metadata": {
        "id": "Zmf5QOFD8jwh",
        "colab": {
          "base_uri": "https://localhost:8080/"
        },
        "outputId": "bd077791-7d40-44b0-a336-a965aaf30bf3"
      },
      "execution_count": null,
      "outputs": [
        {
          "output_type": "execute_result",
          "data": {
            "text/plain": [
              "['India', 'USA', 'China', 'Russia']"
            ]
          },
          "metadata": {},
          "execution_count": 7
        }
      ]
    },
    {
      "cell_type": "code",
      "source": [
        "l1[::2]"
      ],
      "metadata": {
        "id": "lVImUtMqAPpx",
        "colab": {
          "base_uri": "https://localhost:8080/"
        },
        "outputId": "e79e5755-cd72-4b69-c56a-92dd71dc7c25"
      },
      "execution_count": null,
      "outputs": [
        {
          "output_type": "execute_result",
          "data": {
            "text/plain": [
              "['India', 'China']"
            ]
          },
          "metadata": {},
          "execution_count": 8
        }
      ]
    },
    {
      "cell_type": "code",
      "source": [
        "l1[1:4:2]"
      ],
      "metadata": {
        "id": "mW9iolfUCNmF",
        "colab": {
          "base_uri": "https://localhost:8080/"
        },
        "outputId": "2605d90c-d4d0-471f-c52f-7fa0221d7351"
      },
      "execution_count": null,
      "outputs": [
        {
          "output_type": "execute_result",
          "data": {
            "text/plain": [
              "['USA', 'Russia']"
            ]
          },
          "metadata": {},
          "execution_count": 9
        }
      ]
    },
    {
      "cell_type": "code",
      "source": [
        "L2=['Machine Learning','Deep Learning','Python','Tablaeu']"
      ],
      "metadata": {
        "id": "8JfOnMf-CpKi"
      },
      "execution_count": null,
      "outputs": []
    },
    {
      "cell_type": "code",
      "source": [
        "L2.append('statistic') #will add an element in the list at end of list"
      ],
      "metadata": {
        "id": "zgUI2QczNXE2"
      },
      "execution_count": null,
      "outputs": []
    },
    {
      "cell_type": "code",
      "source": [
        "print(L2)"
      ],
      "metadata": {
        "id": "5lLfteDXNmiQ",
        "colab": {
          "base_uri": "https://localhost:8080/"
        },
        "outputId": "ab016a36-da8e-4623-a2f1-d0f471d1802a"
      },
      "execution_count": null,
      "outputs": [
        {
          "output_type": "stream",
          "name": "stdout",
          "text": [
            "['Machine Learning', 'Deep Learning', 'Python', 'Tablaeu', 'statistic']\n"
          ]
        }
      ]
    },
    {
      "cell_type": "code",
      "source": [
        "L2.insert(2,'Tableau')# will add an element in the list at desired location of list"
      ],
      "metadata": {
        "id": "e3OCr8HON1EK"
      },
      "execution_count": null,
      "outputs": []
    },
    {
      "cell_type": "code",
      "source": [
        "print(L2)"
      ],
      "metadata": {
        "id": "W7N7KXxFOs-b",
        "colab": {
          "base_uri": "https://localhost:8080/"
        },
        "outputId": "de5add57-41ea-47f6-8a47-f3f8fe18f1e9"
      },
      "execution_count": null,
      "outputs": [
        {
          "output_type": "stream",
          "name": "stdout",
          "text": [
            "['Machine Learning', 'Deep Learning', 'Tableau', 'Python', 'Tablaeu', 'statistic']\n"
          ]
        }
      ]
    },
    {
      "cell_type": "code",
      "source": [
        "L2.remove('Tableau')"
      ],
      "metadata": {
        "id": "npLjLwkhO_4b"
      },
      "execution_count": null,
      "outputs": []
    },
    {
      "cell_type": "code",
      "source": [
        "print(L2)"
      ],
      "metadata": {
        "id": "mYf1CBLmPj94",
        "colab": {
          "base_uri": "https://localhost:8080/"
        },
        "outputId": "237ee40e-0cde-4842-e194-86ce072db349"
      },
      "execution_count": null,
      "outputs": [
        {
          "output_type": "stream",
          "name": "stdout",
          "text": [
            "['Machine Learning', 'Deep Learning', 'Python', 'Tablaeu', 'statistic']\n"
          ]
        }
      ]
    },
    {
      "cell_type": "code",
      "source": [
        "L2.pop(2)"
      ],
      "metadata": {
        "id": "YMLEPDCZQwLk",
        "colab": {
          "base_uri": "https://localhost:8080/",
          "height": 36
        },
        "outputId": "9d81a247-0a09-4424-def7-46f02c9ee604"
      },
      "execution_count": null,
      "outputs": [
        {
          "output_type": "execute_result",
          "data": {
            "text/plain": [
              "'Python'"
            ],
            "application/vnd.google.colaboratory.intrinsic+json": {
              "type": "string"
            }
          },
          "metadata": {},
          "execution_count": 17
        }
      ]
    },
    {
      "cell_type": "code",
      "source": [
        "print(L2)"
      ],
      "metadata": {
        "id": "EOrGrgrdRk_H",
        "colab": {
          "base_uri": "https://localhost:8080/"
        },
        "outputId": "70b4483d-efd2-46f6-b496-51c39b319172"
      },
      "execution_count": null,
      "outputs": [
        {
          "output_type": "stream",
          "name": "stdout",
          "text": [
            "['Machine Learning', 'Deep Learning', 'Tablaeu', 'statistic']\n"
          ]
        }
      ]
    },
    {
      "cell_type": "code",
      "source": [
        "L2.extend(['computer vision','R Programming','NLP','GAN'])#will multiple elements"
      ],
      "metadata": {
        "id": "55X9-xjIRvIs"
      },
      "execution_count": null,
      "outputs": []
    },
    {
      "cell_type": "code",
      "source": [
        "print(L2)"
      ],
      "metadata": {
        "id": "0t5qwkIAS93o",
        "colab": {
          "base_uri": "https://localhost:8080/"
        },
        "outputId": "00162be9-6f85-494f-fa76-2f38b66ba0f1"
      },
      "execution_count": null,
      "outputs": [
        {
          "output_type": "stream",
          "name": "stdout",
          "text": [
            "['Machine Learning', 'Deep Learning', 'Tablaeu', 'statistic', 'computer vision', 'R Programming', 'NLP', 'GAN']\n"
          ]
        }
      ]
    },
    {
      "cell_type": "code",
      "source": [
        "len(L2)"
      ],
      "metadata": {
        "id": "X1L11j4vTBpI",
        "colab": {
          "base_uri": "https://localhost:8080/"
        },
        "outputId": "39118479-7bba-424a-8cd1-cfea369506ee"
      },
      "execution_count": null,
      "outputs": [
        {
          "output_type": "execute_result",
          "data": {
            "text/plain": [
              "8"
            ]
          },
          "metadata": {},
          "execution_count": 21
        }
      ]
    },
    {
      "cell_type": "code",
      "source": [
        "L3=[1,2,4,8,9,4,2,6,9,7,4,5,3,6,4,9,5,4,9,2]"
      ],
      "metadata": {
        "id": "5-AJ3z7UUlO4"
      },
      "execution_count": null,
      "outputs": []
    },
    {
      "cell_type": "code",
      "source": [
        "sum(L3)"
      ],
      "metadata": {
        "id": "G97ciRLeX_Ej",
        "colab": {
          "base_uri": "https://localhost:8080/"
        },
        "outputId": "a9ce32af-57a8-4cc7-e28b-0b5f6b37c2e1"
      },
      "execution_count": null,
      "outputs": [
        {
          "output_type": "execute_result",
          "data": {
            "text/plain": [
              "103"
            ]
          },
          "metadata": {},
          "execution_count": 23
        }
      ]
    },
    {
      "cell_type": "code",
      "source": [
        "L3.count(4)#it will use to count the frequency of the particular value"
      ],
      "metadata": {
        "id": "to_jHeWsYBRd",
        "colab": {
          "base_uri": "https://localhost:8080/"
        },
        "outputId": "aeca5ff8-59cd-4ab5-8a6f-e2668487f038"
      },
      "execution_count": null,
      "outputs": [
        {
          "output_type": "execute_result",
          "data": {
            "text/plain": [
              "5"
            ]
          },
          "metadata": {},
          "execution_count": 24
        }
      ]
    },
    {
      "cell_type": "markdown",
      "source": [
        "Data Structures in Python\n",
        "1.Dictioneries\n",
        "2.Tuples\n",
        "3.Sets"
      ],
      "metadata": {
        "id": "Yd4Z4soJg874"
      }
    },
    {
      "cell_type": "code",
      "source": [
        "#Dictioneries\n",
        "memo={'chips':20,'chocolates':200,'Ice cream':180,'Bread':45}"
      ],
      "metadata": {
        "id": "3VWnUh3ohITn"
      },
      "execution_count": null,
      "outputs": []
    },
    {
      "cell_type": "code",
      "source": [
        "memo['chocolates']"
      ],
      "metadata": {
        "id": "5fi9p07phdE7",
        "colab": {
          "base_uri": "https://localhost:8080/"
        },
        "outputId": "a9b3057b-edc9-4655-9cef-44e76db4be1a"
      },
      "execution_count": null,
      "outputs": [
        {
          "output_type": "execute_result",
          "data": {
            "text/plain": [
              "200"
            ]
          },
          "metadata": {},
          "execution_count": 26
        }
      ]
    },
    {
      "cell_type": "code",
      "source": [
        "memo['chips']"
      ],
      "metadata": {
        "id": "T1jzUdsfiJZ_",
        "colab": {
          "base_uri": "https://localhost:8080/"
        },
        "outputId": "1bd2a9b7-e4f3-4353-ccde-c8f5d2edc2c1"
      },
      "execution_count": null,
      "outputs": [
        {
          "output_type": "execute_result",
          "data": {
            "text/plain": [
              "20"
            ]
          },
          "metadata": {},
          "execution_count": 27
        }
      ]
    },
    {
      "cell_type": "code",
      "source": [
        "#adding new key value fair in a dictionery\n",
        "memo['Notebook']=200"
      ],
      "metadata": {
        "id": "Oj08EmqxiwEy"
      },
      "execution_count": null,
      "outputs": []
    },
    {
      "cell_type": "code",
      "source": [
        "print(memo)"
      ],
      "metadata": {
        "id": "S59MFoefjuoe",
        "colab": {
          "base_uri": "https://localhost:8080/"
        },
        "outputId": "5e596cf7-b33b-4bf3-9d20-9a46b93f2137"
      },
      "execution_count": null,
      "outputs": [
        {
          "output_type": "stream",
          "name": "stdout",
          "text": [
            "{'chips': 20, 'chocolates': 200, 'Ice cream': 180, 'Bread': 45, 'Notebook': 200}\n"
          ]
        }
      ]
    },
    {
      "cell_type": "code",
      "source": [
        "memo['chips']=100"
      ],
      "metadata": {
        "id": "NzMO57u6j43_"
      },
      "execution_count": null,
      "outputs": []
    },
    {
      "cell_type": "code",
      "source": [
        "print(memo)"
      ],
      "metadata": {
        "id": "n6nTzzmwlNZQ",
        "colab": {
          "base_uri": "https://localhost:8080/"
        },
        "outputId": "6c29c7c9-2e18-4c3a-9388-6f1967c34c49"
      },
      "execution_count": null,
      "outputs": [
        {
          "output_type": "stream",
          "name": "stdout",
          "text": [
            "{'chips': 100, 'chocolates': 200, 'Ice cream': 180, 'Bread': 45, 'Notebook': 200}\n"
          ]
        }
      ]
    },
    {
      "cell_type": "code",
      "source": [
        "del memo['chips']"
      ],
      "metadata": {
        "id": "4sEJvZaKlV1m"
      },
      "execution_count": null,
      "outputs": []
    },
    {
      "cell_type": "code",
      "source": [
        "print(memo)"
      ],
      "metadata": {
        "id": "w7mtQmEcl4zS",
        "colab": {
          "base_uri": "https://localhost:8080/"
        },
        "outputId": "4a825200-3fef-4692-eae5-f932d1c1578c"
      },
      "execution_count": null,
      "outputs": [
        {
          "output_type": "stream",
          "name": "stdout",
          "text": [
            "{'chocolates': 200, 'Ice cream': 180, 'Bread': 45, 'Notebook': 200}\n"
          ]
        }
      ]
    },
    {
      "cell_type": "markdown",
      "source": [
        "# TUPLES"
      ],
      "metadata": {
        "id": "jKAc1X5bbtst"
      }
    },
    {
      "cell_type": "code",
      "source": [
        "#Tuples\n",
        "#() Is used to create a tuples\n",
        "t=('India','Python',25,35,-25.2,-18.5)"
      ],
      "metadata": {
        "id": "gLM1XvqtmYN2"
      },
      "execution_count": null,
      "outputs": []
    },
    {
      "cell_type": "code",
      "source": [
        "type(t)"
      ],
      "metadata": {
        "id": "02FYZtyXdWsJ",
        "colab": {
          "base_uri": "https://localhost:8080/"
        },
        "outputId": "7cc305e5-727b-4890-f4a2-b410e5dbf979"
      },
      "execution_count": null,
      "outputs": [
        {
          "output_type": "execute_result",
          "data": {
            "text/plain": [
              "tuple"
            ]
          },
          "metadata": {},
          "execution_count": 35
        }
      ]
    },
    {
      "cell_type": "code",
      "source": [
        "t[2]"
      ],
      "metadata": {
        "id": "C02snqoidmSc",
        "colab": {
          "base_uri": "https://localhost:8080/"
        },
        "outputId": "0143dfb9-3793-414f-8eec-84642ccd044c"
      },
      "execution_count": null,
      "outputs": [
        {
          "output_type": "execute_result",
          "data": {
            "text/plain": [
              "25"
            ]
          },
          "metadata": {},
          "execution_count": 36
        }
      ]
    },
    {
      "cell_type": "code",
      "source": [
        "t[3:5]"
      ],
      "metadata": {
        "id": "PTLvvzfEdpsL",
        "colab": {
          "base_uri": "https://localhost:8080/"
        },
        "outputId": "f33e7ea8-f2a5-4a51-db44-d7df00fe0706"
      },
      "execution_count": null,
      "outputs": [
        {
          "output_type": "execute_result",
          "data": {
            "text/plain": [
              "(35, -25.2)"
            ]
          },
          "metadata": {},
          "execution_count": 37
        }
      ]
    },
    {
      "cell_type": "code",
      "source": [
        "t[:]"
      ],
      "metadata": {
        "id": "KjUjY8rld6Mj",
        "colab": {
          "base_uri": "https://localhost:8080/"
        },
        "outputId": "b5693015-ca58-4513-96bd-b379e219745a"
      },
      "execution_count": null,
      "outputs": [
        {
          "output_type": "execute_result",
          "data": {
            "text/plain": [
              "('India', 'Python', 25, 35, -25.2, -18.5)"
            ]
          },
          "metadata": {},
          "execution_count": 38
        }
      ]
    },
    {
      "cell_type": "code",
      "source": [
        "# Sets are used to define { } Brakets\n",
        "s={'India','Python',25,35,-25.2,-18.5}"
      ],
      "metadata": {
        "id": "Z30K7FeEeDUc"
      },
      "execution_count": null,
      "outputs": []
    },
    {
      "cell_type": "code",
      "source": [
        "print(s) #random inner shuffling"
      ],
      "metadata": {
        "id": "u0KkeG9djCcA",
        "colab": {
          "base_uri": "https://localhost:8080/"
        },
        "outputId": "03cf8a7d-e8d9-4797-82bc-b43cba8aaf4f"
      },
      "execution_count": null,
      "outputs": [
        {
          "output_type": "stream",
          "name": "stdout",
          "text": [
            "{35, -25.2, 'Python', 25, 'India', -18.5}\n"
          ]
        }
      ]
    },
    {
      "cell_type": "markdown",
      "source": [
        "IF Else statements/Control Flow/Conditional Statements\n",
        "\n",
        "Take two numbers from the user and check which one is greater"
      ],
      "metadata": {
        "id": "_B42pyuDtD05"
      }
    },
    {
      "cell_type": "code",
      "source": [
        "x=int (input('enter value of x'))\n",
        "y=int(input('enter value of y'))\n",
        "\n",
        "if x>y:\n",
        "  print('x greater')\n",
        "\n",
        "else:\n",
        "    print('y is greater')"
      ],
      "metadata": {
        "id": "xzg0929ZtCEe",
        "colab": {
          "base_uri": "https://localhost:8080/"
        },
        "outputId": "f7cfeb28-fc47-419e-e3c5-bfd6a176e60d"
      },
      "execution_count": null,
      "outputs": [
        {
          "output_type": "stream",
          "name": "stdout",
          "text": [
            "enter value of x10\n",
            "enter value of y20\n",
            "y is greater\n"
          ]
        }
      ]
    },
    {
      "cell_type": "code",
      "source": [
        "x=int (input('enter value of x'))\n",
        "y=int(input('enter value of y'))\n",
        "\n",
        "if x>y:\n",
        "  print('x greater')\n",
        "\n",
        "elif x==y:\n",
        "  print('Both the  values are same')\n",
        "\n",
        "else:\n",
        "    print('y is greater')"
      ],
      "metadata": {
        "id": "C_DhwftJwXj6",
        "colab": {
          "base_uri": "https://localhost:8080/"
        },
        "outputId": "fa495339-ac8c-4007-b991-1086386fda96"
      },
      "execution_count": null,
      "outputs": [
        {
          "output_type": "stream",
          "name": "stdout",
          "text": [
            "enter value of x20\n",
            "enter value of y10\n",
            "x greater\n"
          ]
        }
      ]
    },
    {
      "cell_type": "markdown",
      "source": [
        "In a fare entery fee of children less than 4 years of age is free of cost, entry fee for children between the age 4-16 years 100 INR, the entry fee for more than that age is 175 INR.\n",
        "\n",
        "Take age is as input from the user and display the entery fee."
      ],
      "metadata": {
        "id": "ZeFlEKiLxL0f"
      }
    },
    {
      "cell_type": "code",
      "source": [
        "age=int(input('enter your age'))\n",
        "\n",
        "if age<4 :\n",
        "  print('free of cost')\n",
        "\n",
        "elif 4<=age<=16:\n",
        "  print('entry fee is 100 INR')\n",
        "\n",
        "else :\n",
        "  print('entry fee is 175 INR')"
      ],
      "metadata": {
        "id": "ktUMlQfCymDh",
        "colab": {
          "base_uri": "https://localhost:8080/"
        },
        "outputId": "cb1baf44-59ee-4bd3-d592-1ddd0e32bd8a"
      },
      "execution_count": null,
      "outputs": [
        {
          "output_type": "stream",
          "name": "stdout",
          "text": [
            "enter your age25\n",
            "entry fee is 175 INR\n"
          ]
        }
      ]
    },
    {
      "cell_type": "code",
      "source": [
        "age=int(input('enter your age'))\n",
        "\n",
        "if age<4 :\n",
        "  print('free of cost',age)\n",
        "\n",
        "elif 4<=age<=16:\n",
        "  print('entry fee is 100 INR',age)\n",
        "\n",
        "else :\n",
        "  print('entry fee is 175 INR',age)"
      ],
      "metadata": {
        "id": "9aY9u2uM1wrG",
        "colab": {
          "base_uri": "https://localhost:8080/"
        },
        "outputId": "0bc62c7f-0868-4ed1-9603-48580788246c"
      },
      "execution_count": null,
      "outputs": [
        {
          "output_type": "stream",
          "name": "stdout",
          "text": [
            "enter your age25\n",
            "entry fee is 175 INR 25\n"
          ]
        }
      ]
    },
    {
      "cell_type": "markdown",
      "source": [
        "Take a number as input from the user and chek if the number is even or odd"
      ],
      "metadata": {
        "id": "8sRPkzWl4wbp"
      }
    },
    {
      "cell_type": "code",
      "source": [
        "x=int(input('enter the number'))\n",
        "\n",
        "if 0%2==0:\n",
        "  print('number is even')\n",
        "\n",
        "else:\n",
        "  print('number is odd')"
      ],
      "metadata": {
        "id": "sHWgPuTC4VpD"
      },
      "execution_count": null,
      "outputs": []
    },
    {
      "cell_type": "markdown",
      "source": [
        "Take length and bredth of a rectangle as input from the user and check if rectangle is square or not"
      ],
      "metadata": {
        "id": "ftyPcGtO-48Y"
      }
    },
    {
      "cell_type": "code",
      "source": [
        "len=int(input('enter the length'))\n",
        "breadth=int(input('enter the breadth'))\n",
        "\n",
        "if len==breadth:\n",
        "  print('it is square')\n",
        "\n",
        "else:\n",
        "  print('it is rectangle')"
      ],
      "metadata": {
        "id": "PdeJSHhAAXFD"
      },
      "execution_count": null,
      "outputs": []
    },
    {
      "cell_type": "markdown",
      "source": [
        "the owner of the company decides to give 5% bonus to employees who have been working in the company for more than 5 years or more,\n",
        "take salary input from the user along with the years of experience in the company and display the incremented salary (if any) or simply display the current salary."
      ],
      "metadata": {
        "id": "IoOnZcFXCzDF"
      }
    },
    {
      "cell_type": "markdown",
      "source": [],
      "metadata": {
        "id": "PQDzd5WHG1Kn"
      }
    },
    {
      "cell_type": "code",
      "source": [
        "Salary=int(input('enter the salary'))\n",
        "\n",
        "years=int(input('enter years of experience'))\n",
        "\n",
        "if years>=5:\n",
        "  print('incremented salary','current salary+0.05*current salary')\n",
        "\n",
        "else :\n",
        "  print(\"no increment in salary current_salary is\", 'current_salary')"
      ],
      "metadata": {
        "id": "42pgNuCpBM8I"
      },
      "execution_count": null,
      "outputs": []
    },
    {
      "cell_type": "markdown",
      "source": [
        "NESTED STATEMENTS"
      ],
      "metadata": {
        "id": "kkWXI3L06Cti"
      }
    },
    {
      "cell_type": "markdown",
      "source": [
        "take a number number from the user as input and check if the number is greter than 10 or not\n",
        "if it is greater than 10 then check if it is greater than 20 also or not."
      ],
      "metadata": {
        "id": "M6NcQnNQ6Kd8"
      }
    },
    {
      "cell_type": "code",
      "source": [
        "x=int(input('enter a number'))\n",
        "\n",
        "if x>10:\n",
        "  print('number is greater than 10')\n",
        "\n",
        "  if x>20:\n",
        "    print('number is greater than 20')\n",
        "\n",
        "  else:\n",
        "    print('number is greater than 10 but lessthan 20')\n",
        "\n",
        "else:\n",
        "  print('number is less than 10')"
      ],
      "metadata": {
        "id": "TWupygZy6IUL"
      },
      "execution_count": null,
      "outputs": []
    },
    {
      "cell_type": "markdown",
      "source": [
        "Take a number from the user as input and check if the number is negative or positive or zero using nested statements"
      ],
      "metadata": {
        "id": "S8hQE5We8flD"
      }
    },
    {
      "cell_type": "code",
      "source": [
        "x=int(input('enter a number'))\n",
        "\n",
        "if x==1:\n",
        "  print('number is positive')\n",
        "\n",
        "  if x==0:\n",
        "    print('number is negative')\n",
        "\n",
        "  else:\n",
        "    print('number is zero')\n",
        "\n",
        "else:\n",
        "  print('number is zero')"
      ],
      "metadata": {
        "id": "-1T4mSbB7wvP"
      },
      "execution_count": null,
      "outputs": []
    },
    {
      "cell_type": "markdown",
      "source": [
        "LOOPS\n",
        "\n",
        "WAP to print first natural 10 numbers"
      ],
      "metadata": {
        "id": "j2vtCizvF0H1"
      }
    },
    {
      "cell_type": "code",
      "source": [
        "a=1\n",
        "\n",
        "while a<=10:\n",
        "  print(a)\n",
        "  a=a+1\n"
      ],
      "metadata": {
        "id": "Q35TZTIW9iyl"
      },
      "execution_count": null,
      "outputs": []
    },
    {
      "cell_type": "markdown",
      "source": [
        "WAP to print first 10 odd numbers"
      ],
      "metadata": {
        "id": "TVRnLdMhIWFF"
      }
    },
    {
      "cell_type": "code",
      "source": [
        "a=1\n",
        "\n",
        "while a<=20:\n",
        " print(a)\n",
        " a=a+2\n"
      ],
      "metadata": {
        "id": "CEe31TvEIGzZ"
      },
      "execution_count": null,
      "outputs": []
    },
    {
      "cell_type": "markdown",
      "source": [
        "2) FOR LOOP\n",
        "\n",
        "WAP to display first 10 natural numbers"
      ],
      "metadata": {
        "id": "tQ1asFmQllHF"
      }
    },
    {
      "cell_type": "code",
      "source": [
        "for i in range(1,11):\n",
        "  print(i)"
      ],
      "metadata": {
        "id": "rE9sIUIQtWs0"
      },
      "execution_count": null,
      "outputs": []
    },
    {
      "cell_type": "markdown",
      "source": [
        "OUTPUT Based Quetions"
      ],
      "metadata": {
        "id": "7O8XBZmuuti-"
      }
    },
    {
      "cell_type": "code",
      "source": [
        "a=7\n",
        "b=5\n",
        "\n",
        "while a<9:\n",
        "  print(a+b)\n",
        "  a=a+1"
      ],
      "metadata": {
        "id": "_4a125f4tnba"
      },
      "execution_count": null,
      "outputs": []
    },
    {
      "cell_type": "code",
      "source": [
        "x=5\n",
        "\n",
        "while x<15:\n",
        "  print(x**2)\n",
        "  x=x+3"
      ],
      "metadata": {
        "id": "vLDZ10N_u9RC"
      },
      "execution_count": null,
      "outputs": []
    },
    {
      "cell_type": "markdown",
      "source": [
        "Take a number as input from the user and display the multiplication table till 10"
      ],
      "metadata": {
        "id": "bu0UTw3F_le4"
      }
    },
    {
      "cell_type": "code",
      "source": [
        "X=int(input('enter a number'))\n",
        "\n",
        "for i in range (1,11):\n",
        "  print(X*i)"
      ],
      "metadata": {
        "id": "aPHQTRNsxrdJ"
      },
      "execution_count": null,
      "outputs": []
    },
    {
      "cell_type": "markdown",
      "source": [
        "Take a list of numbers and print all the even numbers from the list"
      ],
      "metadata": {
        "id": "mWR43proCg5P"
      }
    },
    {
      "cell_type": "code",
      "source": [
        "l1=[2,3,5,9,8,4]\n",
        "\n",
        "for i in l1:\n",
        "  if i%2==0:\n",
        "    print(i)\n"
      ],
      "metadata": {
        "id": "F9FRYLOLAFvq"
      },
      "execution_count": null,
      "outputs": []
    },
    {
      "cell_type": "markdown",
      "source": [
        "Take a list of numbers and display the square of the numbers in the given list"
      ],
      "metadata": {
        "id": "PAM-L7mQFGb6"
      }
    },
    {
      "cell_type": "code",
      "source": [
        "l2=[2,3,4,5,6]\n",
        "\n",
        "for i in l2:\n",
        "  print(i*i)"
      ],
      "metadata": {
        "id": "x5VtlVCyCzj6"
      },
      "execution_count": null,
      "outputs": []
    },
    {
      "cell_type": "code",
      "source": [
        "l3=[2,3,4,5,9,11,45,78,32,42,22]\n",
        "\n",
        "count_even=0\n",
        "count_odd=0\n",
        "\n",
        "for i in l3:\n",
        "  if i%2==0:\n",
        "    count_even=count_even+1\n",
        "\n",
        "  else:\n",
        "    count_odd=count_odd+1\n",
        "\n",
        "print(\"the frequency of even numbers is\",count_even, \"and the frequency of the odd numbers is\",count_odd)"
      ],
      "metadata": {
        "id": "SPVDW_0GFmpc"
      },
      "execution_count": null,
      "outputs": []
    },
    {
      "cell_type": "markdown",
      "source": [
        "STATEMENTS\n",
        "\n",
        "1. Break\n",
        "\n",
        "2. Continue\n",
        "\n",
        "3. Pass"
      ],
      "metadata": {
        "id": "QAUGHaenSrtM"
      }
    },
    {
      "cell_type": "code",
      "source": [
        "# Pass statements-which will make segment code inactive\n",
        "x=int(input(\"enter a number\"))\n",
        "y=int(input(\"enter a number\"))\n",
        "\n",
        "if x>y:\n",
        "  print(\"x is greater\")\n",
        "\n",
        "else:\n",
        "  pass\n"
      ],
      "metadata": {
        "id": "rDM4dz1_LrHv"
      },
      "execution_count": null,
      "outputs": []
    },
    {
      "cell_type": "code",
      "source": [
        "l3=[2,3,4,5,9,11,45,78,32,42,22]\n",
        "\n",
        "count_even=0\n",
        "count_odd=0\n",
        "\n",
        "for i in l3:\n",
        "  if i%2==0:\n",
        "    pass\n",
        "\n",
        "  else:\n",
        "    print(i)"
      ],
      "metadata": {
        "id": "vpppvHFSh_a8"
      },
      "execution_count": null,
      "outputs": []
    },
    {
      "cell_type": "code",
      "source": [
        "#break statement -forcebly come out of the loop\n",
        "L1=['Mango', 'Banana', 'apple','Grapes', 'pineapple','orange']\n",
        "\n",
        "for i in L1:\n",
        "  if i=='Grapes':\n",
        "   break\n",
        "\n",
        "  print(i)"
      ],
      "metadata": {
        "id": "qa0lb6fRiukL"
      },
      "execution_count": null,
      "outputs": []
    },
    {
      "cell_type": "code",
      "source": [
        "# Continue Statement- it will skipped the element and continue as remain in the list or statements\n",
        "L1=['Mango', 'Banana', 'apple','Grapes', 'pineapple','orange']\n",
        "\n",
        "for i in L1:\n",
        "  if i=='Grapes':\n",
        "   continue\n",
        "\n",
        "  print(i)"
      ],
      "metadata": {
        "id": "L8F8ibQkn8Kz"
      },
      "execution_count": null,
      "outputs": []
    },
    {
      "cell_type": "markdown",
      "source": [
        "Display all the numbers between 1 to 10 except 4,6 and 8"
      ],
      "metadata": {
        "id": "nROYQqbbn72Q"
      }
    },
    {
      "cell_type": "code",
      "source": [
        "L1=[1,2,3,4,5,6,7,8,9,10]\n",
        "\n",
        "for i in L1:\n",
        "  if i==4 or i==6 or i==8:\n",
        "    pass\n",
        "  else:\n",
        "    print(i)"
      ],
      "metadata": {
        "id": "_gBNZSAeXvTr"
      },
      "execution_count": null,
      "outputs": []
    },
    {
      "cell_type": "markdown",
      "source": [
        "USER DEFINED FUNCTIONS IN PYTHON : We can create function what ever we want the functions, while creating functions the key word is -def."
      ],
      "metadata": {
        "id": "qsHT2LvHiHEV"
      }
    },
    {
      "cell_type": "code",
      "source": [
        "def add(a,b):\n",
        "\n",
        "  c=(a+b)\n",
        "\n",
        "  print(c)"
      ],
      "metadata": {
        "id": "gI2lcaxpYZea"
      },
      "execution_count": null,
      "outputs": []
    },
    {
      "cell_type": "code",
      "source": [
        "add(10,20)"
      ],
      "metadata": {
        "id": "C3mfB9cIdtnY"
      },
      "execution_count": null,
      "outputs": []
    },
    {
      "cell_type": "code",
      "source": [
        "add(50,10)"
      ],
      "metadata": {
        "id": "WEGoJC0uhtkt"
      },
      "execution_count": null,
      "outputs": []
    },
    {
      "cell_type": "code",
      "source": [
        "def rect(l,b):\n",
        " area=l*b\n",
        " peri=2*(l+b)\n",
        " print(\"area\", area,\"perimter\",peri)\n"
      ],
      "metadata": {
        "id": "Hctta7CxjHo7"
      },
      "execution_count": null,
      "outputs": []
    },
    {
      "cell_type": "code",
      "source": [
        "rect(5,6)"
      ],
      "metadata": {
        "id": "AZKZ5W0_lNRI"
      },
      "execution_count": null,
      "outputs": []
    },
    {
      "cell_type": "markdown",
      "source": [
        "Create a function to calculate area and circumference of a circle"
      ],
      "metadata": {
        "id": "_2_qlSkwF73h"
      }
    },
    {
      "cell_type": "code",
      "source": [
        "def circle(r):\n",
        " area=3.14*r**2\n",
        " circum=2*3.14*r\n",
        " print(\"area\",area,\"circumference\",circum)"
      ],
      "metadata": {
        "id": "mBVbM8L9lzGs"
      },
      "execution_count": null,
      "outputs": []
    },
    {
      "cell_type": "code",
      "source": [
        "circle(2)"
      ],
      "metadata": {
        "id": "VDkVTXthHDGz"
      },
      "execution_count": null,
      "outputs": []
    },
    {
      "cell_type": "markdown",
      "source": [
        "## NUMPY"
      ],
      "metadata": {
        "id": "4FmbMBnNDMu7"
      }
    },
    {
      "cell_type": "code",
      "source": [
        "import numpy as np #np is allias name"
      ],
      "metadata": {
        "id": "PhO4wWgrHZrP"
      },
      "execution_count": null,
      "outputs": []
    },
    {
      "cell_type": "code",
      "source": [
        "my_list=[1,2,3,4,5]"
      ],
      "metadata": {
        "id": "f1RzcYb1DdWu"
      },
      "execution_count": null,
      "outputs": []
    },
    {
      "cell_type": "code",
      "source": [
        "array=np.array(my_list)"
      ],
      "metadata": {
        "id": "OcowtG_ADh4-"
      },
      "execution_count": null,
      "outputs": []
    },
    {
      "cell_type": "code",
      "source": [
        "print(array)"
      ],
      "metadata": {
        "id": "7EN7jD9MDpFr"
      },
      "execution_count": null,
      "outputs": []
    },
    {
      "cell_type": "code",
      "source": [
        "type(array)#nd means n dimentional and the value of n is 1 in this case so we have 1D array"
      ],
      "metadata": {
        "id": "YCkLm1v0Dxe1"
      },
      "execution_count": null,
      "outputs": []
    },
    {
      "cell_type": "code",
      "source": [
        "type(my_list)"
      ],
      "metadata": {
        "id": "12658aQeEF5y"
      },
      "execution_count": null,
      "outputs": []
    },
    {
      "cell_type": "code",
      "source": [
        "my_list_1=[1,2,3,4,5]\n",
        "my_list_2=[5,0,7,4,0]\n",
        "my_list_3=[3,4,5,4,7]\n",
        "\n",
        "arr_new=np.array([my_list_1,my_list_2,my_list_3])\n",
        "\n",
        "print(arr_new) #this is the 2D array"
      ],
      "metadata": {
        "id": "5XjqttNvEMVa"
      },
      "execution_count": null,
      "outputs": []
    },
    {
      "cell_type": "markdown",
      "source": [
        "#3D Array"
      ],
      "metadata": {
        "id": "qeDHXKsmIJvY"
      }
    },
    {
      "cell_type": "code",
      "source": [
        "a=np.array([[[0,1,2,3],[4,5,6,7],[8,9,10,11]],[[12,13,14,15],[16,17,18,19],[20,21,22,23]]])"
      ],
      "metadata": {
        "id": "tvki_BvRGlg1"
      },
      "execution_count": null,
      "outputs": []
    },
    {
      "cell_type": "code",
      "source": [],
      "metadata": {
        "id": "vQRRSW6dUBQC"
      },
      "execution_count": null,
      "outputs": []
    },
    {
      "cell_type": "code",
      "source": [
        "print(a)"
      ],
      "metadata": {
        "id": "8xM1HzMuIxJM"
      },
      "execution_count": null,
      "outputs": []
    },
    {
      "cell_type": "code",
      "source": [
        "a.shape # if it is having width, rows, columns it means that is 3D array."
      ],
      "metadata": {
        "id": "LGzZKd0lJgFl"
      },
      "execution_count": null,
      "outputs": []
    },
    {
      "cell_type": "code",
      "source": [
        "my_list_1=[1,2,3,4,5]\n",
        "my_list_2=[5,0,7,4,0]\n",
        "my_list_3=[3,4,5,4,7]"
      ],
      "metadata": {
        "id": "GOLhsDz4KUv0"
      },
      "execution_count": null,
      "outputs": []
    },
    {
      "cell_type": "code",
      "source": [
        "print(arr_new)"
      ],
      "metadata": {
        "id": "yZ1Uk0w2VEBF"
      },
      "execution_count": null,
      "outputs": []
    },
    {
      "cell_type": "code",
      "source": [
        "arr_new.shape"
      ],
      "metadata": {
        "id": "PavPA87qUDIG"
      },
      "execution_count": null,
      "outputs": []
    },
    {
      "cell_type": "code",
      "source": [
        "arr_new.reshape(5,3)"
      ],
      "metadata": {
        "id": "YHcyt1tqUcIL"
      },
      "execution_count": null,
      "outputs": []
    },
    {
      "cell_type": "code",
      "source": [
        "#Generating numbers using numpy"
      ],
      "metadata": {
        "id": "-uJYUwmMVpxZ"
      },
      "execution_count": null,
      "outputs": []
    },
    {
      "cell_type": "code",
      "source": [
        "np.linspace(1,10,5)"
      ],
      "metadata": {
        "id": "ELEBqWOfYcmF"
      },
      "execution_count": null,
      "outputs": []
    },
    {
      "cell_type": "code",
      "source": [
        "np.linspace(1,10,20)"
      ],
      "metadata": {
        "id": "QZVzDTOziE7a"
      },
      "execution_count": null,
      "outputs": []
    },
    {
      "cell_type": "code",
      "source": [
        "arr_new.reshape(5,3)"
      ],
      "metadata": {
        "id": "jGJQGuY5iKCa"
      },
      "execution_count": null,
      "outputs": []
    },
    {
      "cell_type": "markdown",
      "source": [
        "USING RANDOM.RAND Function in Numpy"
      ],
      "metadata": {
        "id": "aruSXOTRz6YC"
      }
    },
    {
      "cell_type": "code",
      "source": [
        "np.random.rand(5,4) #5 indicates rows, 4 indicates columns,here by default the range will be between 0 to 1 only(1 being exclusive)"
      ],
      "metadata": {
        "id": "e96emFXDw0_6"
      },
      "execution_count": null,
      "outputs": []
    },
    {
      "cell_type": "code",
      "source": [
        "np.random.rand(4,5)"
      ],
      "metadata": {
        "id": "K8FQIAVizJjh"
      },
      "execution_count": null,
      "outputs": []
    },
    {
      "cell_type": "code",
      "source": [
        "np.random.randint(1,10) #here 1 to 10 is the range (10 being exclusive)"
      ],
      "metadata": {
        "id": "9-rexBQDx99L"
      },
      "execution_count": null,
      "outputs": []
    },
    {
      "cell_type": "markdown",
      "source": [
        "2) PANDAS IN SK LEARN"
      ],
      "metadata": {
        "id": "K2pgQtDn6hlM"
      }
    },
    {
      "cell_type": "code",
      "source": [
        "import pandas as PD # here PD is the alias name"
      ],
      "metadata": {
        "id": "8sBjufiz1y3h"
      },
      "execution_count": null,
      "outputs": []
    },
    {
      "cell_type": "code",
      "source": [
        "#steps to load the dataset in google colab\n",
        "#Go to files-> upload to session storage -> upload dataset from the folder from your PC"
      ],
      "metadata": {
        "id": "wZ9J_1WZ6s1o"
      },
      "execution_count": null,
      "outputs": []
    },
    {
      "cell_type": "code",
      "source": [
        "#How to read dataset in google colab\n",
        "# copy path of the dataset which has been uploaded -> paste it in the PD.read_CSV()function"
      ],
      "metadata": {
        "id": "QmX4uG6qCceZ"
      },
      "execution_count": null,
      "outputs": []
    },
    {
      "cell_type": "code",
      "source": [
        "#Example-data=pd.read_CSV('content tips.csv')"
      ],
      "metadata": {
        "id": "Rz5RljeVC5pg"
      },
      "execution_count": null,
      "outputs": []
    },
    {
      "cell_type": "code",
      "source": [
        "#data.head() by default will the first five rows of the dataset"
      ],
      "metadata": {
        "id": "9Nl88hE1DFLX"
      },
      "execution_count": null,
      "outputs": []
    },
    {
      "cell_type": "code",
      "source": [
        "#creating the dummy data\n",
        "import pandas as pd\n",
        "import numpy as np"
      ],
      "metadata": {
        "id": "MPRzX7MQY4TD"
      },
      "execution_count": null,
      "outputs": []
    },
    {
      "cell_type": "code",
      "source": [
        "my_data=pd.DataFrame(np.arange(0,20).reshape(5,4),index=['row1','row2','row3','row4','row5'],columns=['col1','col2','col3','col4'])"
      ],
      "metadata": {
        "id": "yZgVlnc8ZrcX"
      },
      "execution_count": null,
      "outputs": []
    },
    {
      "cell_type": "code",
      "source": [
        "print(my_data)"
      ],
      "metadata": {
        "id": "LJ8hHiCaabYR"
      },
      "execution_count": null,
      "outputs": []
    },
    {
      "cell_type": "code",
      "source": [
        "#slicing in pandas"
      ],
      "metadata": {
        "id": "uQg7PB7MbeUp"
      },
      "execution_count": null,
      "outputs": []
    },
    {
      "cell_type": "code",
      "source": [
        "my_list=[1,2,3] #Using the insert function problem solved from python test"
      ],
      "metadata": {
        "id": "6URRkYZ2P4wP"
      },
      "execution_count": null,
      "outputs": []
    },
    {
      "cell_type": "code",
      "source": [
        "my_list.insert(1,10)"
      ],
      "metadata": {
        "id": "2M75Up0XLj2_"
      },
      "execution_count": null,
      "outputs": []
    },
    {
      "cell_type": "code",
      "source": [
        "print(my_list)"
      ],
      "metadata": {
        "id": "rDghZCzyLolc"
      },
      "execution_count": null,
      "outputs": []
    },
    {
      "cell_type": "code",
      "source": [
        "my_tuple=(1,2,3,4,5)#Using the insert function problem solved from python test\n",
        "count_of_3=my_tuple.count(3)\n"
      ],
      "metadata": {
        "id": "e1D5WJ8cL5XY"
      },
      "execution_count": null,
      "outputs": []
    },
    {
      "cell_type": "code",
      "source": [
        "print(count_of_3)"
      ],
      "metadata": {
        "id": "a4hyDN64SS93"
      },
      "execution_count": null,
      "outputs": []
    },
    {
      "cell_type": "code",
      "source": [
        "a='desktop'# negative indexing problems"
      ],
      "metadata": {
        "id": "h5Dp7IihSbo2"
      },
      "execution_count": null,
      "outputs": []
    },
    {
      "cell_type": "code",
      "source": [
        "a[-3:]"
      ],
      "metadata": {
        "id": "dzKse7XsTgZt"
      },
      "execution_count": null,
      "outputs": []
    },
    {
      "cell_type": "code",
      "source": [
        "# Using count function problems\n",
        "word=input('enter a word')\n",
        "count=0\n",
        "\n",
        "for i in word:\n",
        "  if i in ('a','e','i','o','u'):\n",
        "   count=count+1\n",
        "\n",
        "print(count)\n",
        "\n"
      ],
      "metadata": {
        "id": "wGGtiK2kTka4"
      },
      "execution_count": null,
      "outputs": []
    },
    {
      "cell_type": "code",
      "source": [
        "import numpy as np\n",
        "import pandas as pd"
      ],
      "metadata": {
        "id": "l2CeLBJPcb8-"
      },
      "execution_count": null,
      "outputs": []
    },
    {
      "cell_type": "code",
      "source": [
        "#using numpy function converting from list to arrays\n",
        "list1=[1,2,3]\n",
        "list2=[4,5,6]\n",
        "list3=[7,8,9]\n",
        "\n",
        "a=np.array([list1,list2,list3])"
      ],
      "metadata": {
        "id": "qst6dRC-X0eu"
      },
      "execution_count": null,
      "outputs": []
    },
    {
      "cell_type": "code",
      "source": [
        "a.shape"
      ],
      "metadata": {
        "id": "4tyggFwScqc1"
      },
      "execution_count": null,
      "outputs": []
    },
    {
      "cell_type": "code",
      "source": [
        "# Data Visualization in Python\n",
        "#importing nessesory modules\n",
        "import numpy as np\n",
        "import pandas as pd\n",
        "import matplotlib.pyplot as plt\n",
        "import seaborn as snr"
      ],
      "metadata": {
        "id": "Pa8BWP9reCSA"
      },
      "execution_count": null,
      "outputs": []
    },
    {
      "cell_type": "code",
      "source": [
        "#iris dataset\n",
        "iris=snr.load_dataset(\"iris\")"
      ],
      "metadata": {
        "id": "mLRRQl9teKdR"
      },
      "execution_count": null,
      "outputs": []
    },
    {
      "cell_type": "code",
      "source": [
        "iris.head() #setosa, #verginica, #versicolor"
      ],
      "metadata": {
        "id": "82uhs9L_ec3f"
      },
      "execution_count": null,
      "outputs": []
    },
    {
      "cell_type": "code",
      "source": [
        "iris.tail()"
      ],
      "metadata": {
        "id": "GKlCdT8CeoGP"
      },
      "execution_count": null,
      "outputs": []
    },
    {
      "cell_type": "code",
      "source": [
        "#line graph\n",
        "a=iris.plot(figsize=(10,5),title='Line graph on iris data')\n",
        "a.set_xlable=('X_axis') #rows\n",
        "a.set_ylable=('Y axis') #columns"
      ],
      "metadata": {
        "id": "Rk8JJ1ykfMP9"
      },
      "execution_count": null,
      "outputs": []
    },
    {
      "cell_type": "code",
      "source": [
        "b=iris['petal_length'].plot(figsize=(10,5),title='line graph on iris data')"
      ],
      "metadata": {
        "id": "fy1Mb1NNlbcJ"
      },
      "execution_count": null,
      "outputs": []
    },
    {
      "cell_type": "code",
      "source": [
        "b=iris['petal_width'].plot(figsize=(10,5),title='line graph on iris data')"
      ],
      "metadata": {
        "id": "YaoMw18ypKQe"
      },
      "execution_count": null,
      "outputs": []
    },
    {
      "cell_type": "code",
      "source": [
        "#Bar Graph\n",
        "iris.head()"
      ],
      "metadata": {
        "id": "rhQ_P-4Rq9DZ"
      },
      "execution_count": null,
      "outputs": []
    },
    {
      "cell_type": "code",
      "source": [
        "df=iris.drop(['species'],axis=1) #axis=1 will delete the entire column"
      ],
      "metadata": {
        "id": "ETtzdBzPs-QI"
      },
      "execution_count": null,
      "outputs": []
    },
    {
      "cell_type": "code",
      "source": [
        "df.head()"
      ],
      "metadata": {
        "id": "MtVa_gwCu0bS"
      },
      "execution_count": null,
      "outputs": []
    },
    {
      "cell_type": "code",
      "source": [
        "#Bar Graph\n",
        "df.plot(kind='bar')"
      ],
      "metadata": {
        "id": "7d2N5cynu2xe"
      },
      "execution_count": null,
      "outputs": []
    },
    {
      "cell_type": "code",
      "source": [],
      "metadata": {
        "id": "JYaM1d5Cm1Dr"
      },
      "execution_count": null,
      "outputs": []
    }
  ]
}